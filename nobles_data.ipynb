{
 "cells": [
  {
   "cell_type": "code",
   "execution_count": 1,
   "metadata": {},
   "outputs": [],
   "source": [
    "import pandas as pd\n",
    "import numpy as np"
   ]
  },
  {
   "cell_type": "code",
   "execution_count": 3,
   "metadata": {},
   "outputs": [
    {
     "name": "stdout",
     "output_type": "stream",
     "text": [
      "\n",
      "NoblesLLM_Classes:\n",
      "   Internal Class ID                 Course COURSE: Subject  \\\n",
      "0              33991           Wrestling JV       Athletics   \n",
      "1              36257       Alpine Skiing JV       Athletics   \n",
      "2              33938  Football Boys Varsity       Athletics   \n",
      "3              33939   Football Boys Junior       Athletics   \n",
      "4              33940    Soccer Boys Varsity       Athletics   \n",
      "\n",
      "             Description  Teacher ID School Year          Class ID  \n",
      "0           Wrestling JV     24243.0       18-19  WrstJV.W.2018.US  \n",
      "1       Alpine Skiing JV     24944.0       18-19      SkiJV.W.2018  \n",
      "2  Football Boys Varsity    225027.0       18-19   FblBV.F.2018.US  \n",
      "3   Football Boys Junior     23171.0       18-19  FblBJV.F.2018.US  \n",
      "4    Soccer Boys Varsity     24959.0       18-19   SocBV.F.2018.US  \n",
      "\n",
      "---\n",
      "\n",
      "NoblesLLM_Enrollments:\n",
      "   Enrollment ID  Internal Class ID  STUDENT: Person ID\n",
      "0          40330            34775.0               10011\n",
      "1          45862            34775.0               10014\n",
      "2          56419            38561.0               10022\n",
      "3          45616            34775.0               10045\n",
      "4          56531            38561.0               10045\n",
      "\n",
      "---\n",
      "\n",
      "NoblesLLM_People:\n",
      "   Person ID  Gender Current Grade             City  \\\n",
      "0      10001  Female           NaN          Raynham   \n",
      "1      10002  Female           NaN          Wayland   \n",
      "2      10003    Male           NaN        Brookline   \n",
      "3      10004  Female           NaN  Wellesley Hills   \n",
      "4      10005  Female           NaN           Dedham   \n",
      "\n",
      "                            Roles  \n",
      "0                   Alum '18, Vol  \n",
      "1        Alum '19, Sister of Alum  \n",
      "2  Alum '18, Vol, Brother of Alum  \n",
      "3          Alum '18, Vol, Sibling  \n",
      "4   Alum '18, Vol, Sister of Alum  \n",
      "\n",
      "---\n"
     ]
    }
   ],
   "source": [
    "df = pd.read_csv('data/NoblesLLM_Classes.csv')\n",
    "\n"
   ]
  },
  {
   "cell_type": "code",
   "execution_count": null,
   "metadata": {},
   "outputs": [],
   "source": []
  }
 ],
 "metadata": {
  "kernelspec": {
   "display_name": "r2r",
   "language": "python",
   "name": "python3"
  },
  "language_info": {
   "codemirror_mode": {
    "name": "ipython",
    "version": 3
   },
   "file_extension": ".py",
   "mimetype": "text/x-python",
   "name": "python",
   "nbconvert_exporter": "python",
   "pygments_lexer": "ipython3",
   "version": "3.11.10"
  }
 },
 "nbformat": 4,
 "nbformat_minor": 2
}
